{
 "cells": [
  {
   "cell_type": "code",
   "execution_count": 1,
   "id": "f62e7bcd-d99c-4a88-900b-9c84d91bc007",
   "metadata": {},
   "outputs": [
    {
     "name": "stdin",
     "output_type": "stream",
     "text": [
      "Enter Revenue:  234455\n",
      "Enter cost:  2346\n"
     ]
    },
    {
     "name": "stdout",
     "output_type": "stream",
     "text": [
      "232109.0\n"
     ]
    }
   ],
   "source": [
    "revenue = float(input(\"Enter Revenue: \"))\n",
    "cost = float(input(\"Enter cost: \"))\n",
    "profit = revenue - cost\n",
    "print(profit)"
   ]
  },
  {
   "cell_type": "code",
   "execution_count": 5,
   "id": "88e9d1bc-a6f5-4ed4-957e-bad895a634f9",
   "metadata": {},
   "outputs": [
    {
     "data": {
      "text/plain": [
       "['orange', 'mango', 'apple']"
      ]
     },
     "execution_count": 5,
     "metadata": {},
     "output_type": "execute_result"
    }
   ],
   "source": [
    "fruits = ['orange', 'mango', 'apple']\n",
    "fruits"
   ]
  },
  {
   "cell_type": "code",
   "execution_count": 7,
   "id": "d5b6b0c6-ae7c-4c4d-b9bb-939e89c12000",
   "metadata": {},
   "outputs": [
    {
     "name": "stdout",
     "output_type": "stream",
     "text": [
      "['orange', 'mango', 'apple']\n",
      "['orange', 'mango', 'apple']\n",
      "['orange', 'mango', 'apple']\n"
     ]
    }
   ],
   "source": [
    "for f in fruits:\n",
    "    product = fruits\n",
    "    print(product)"
   ]
  },
  {
   "cell_type": "code",
   "execution_count": 15,
   "id": "82aa50d0-64e1-4036-bf86-693f7e39a381",
   "metadata": {},
   "outputs": [],
   "source": [
    "def loppy(revenue, cost):\n",
    "    profit = revenue - cost\n",
    "    return profit\n"
   ]
  },
  {
   "cell_type": "code",
   "execution_count": 16,
   "id": "0390f907-f1d6-49ab-97e2-2f9c3f97d4b3",
   "metadata": {},
   "outputs": [
    {
     "data": {
      "text/plain": [
       "15000"
      ]
     },
     "execution_count": 16,
     "metadata": {},
     "output_type": "execute_result"
    }
   ],
   "source": [
    "loppy(25000,10000)"
   ]
  }
 ],
 "metadata": {
  "kernelspec": {
   "display_name": "Python 3 (ipykernel)",
   "language": "python",
   "name": "python3"
  },
  "language_info": {
   "codemirror_mode": {
    "name": "ipython",
    "version": 3
   },
   "file_extension": ".py",
   "mimetype": "text/x-python",
   "name": "python",
   "nbconvert_exporter": "python",
   "pygments_lexer": "ipython3",
   "version": "3.13.3"
  }
 },
 "nbformat": 4,
 "nbformat_minor": 5
}
